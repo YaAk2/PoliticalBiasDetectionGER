{
 "cells": [
  {
   "cell_type": "markdown",
   "metadata": {},
   "source": [
    "# Political Bias Detection in German News Articles"
   ]
  },
  {
   "cell_type": "code",
   "execution_count": 23,
   "metadata": {},
   "outputs": [
    {
     "name": "stdout",
     "output_type": "stream",
     "text": [
      "The autoreload extension is already loaded. To reload it, use:\n",
      "  %reload_ext autoreload\n"
     ]
    }
   ],
   "source": [
    "import random\n",
    "import tensorflow\n",
    "from explore_data import*\n",
    "from prepare_data import*\n",
    "from classifiers.embedding import*\n",
    "from classifiers.lstm import*\n",
    "from classifiers.metrics import*\n",
    "%load_ext autoreload\n",
    "%autoreload 2"
   ]
  },
  {
   "cell_type": "markdown",
   "metadata": {},
   "source": [
    "## Data Exploration"
   ]
  },
  {
   "cell_type": "markdown",
   "metadata": {},
   "source": [
    "### GermaParl"
   ]
  },
  {
   "cell_type": "markdown",
   "metadata": {},
   "source": [
    "In order to explore GermaParl download the dataset from [here](https://github.com/PolMine/GermaParlTEI)."
   ]
  },
  {
   "cell_type": "code",
   "execution_count": 2,
   "metadata": {},
   "outputs": [],
   "source": [
    "germa_parl = GermaParl('GermaParlTEI')"
   ]
  },
  {
   "cell_type": "markdown",
   "metadata": {},
   "source": [
    "### News Articles"
   ]
  },
  {
   "cell_type": "markdown",
   "metadata": {},
   "source": [
    "Either download the the pickle files from [here](https://drive.google.com/file/d/13Kp7rEwMcM-1wb8usEjdnxbLGZPO3y2f/view?usp=sharing) or call ScrapeArchive class for scraping the archive of junge freiheit, jungleworld or sueddeutsche zeitung."
   ]
  },
  {
   "cell_type": "markdown",
   "metadata": {},
   "source": [
    "#### Junge Freiheit"
   ]
  },
  {
   "cell_type": "code",
   "execution_count": 3,
   "metadata": {},
   "outputs": [],
   "source": [
    "jf = Archive('NewsArchive/jungefreiheit_archive.pkl')"
   ]
  },
  {
   "cell_type": "markdown",
   "metadata": {},
   "source": [
    "#### Jungle World"
   ]
  },
  {
   "cell_type": "code",
   "execution_count": 4,
   "metadata": {},
   "outputs": [],
   "source": [
    "jw = Archive('NewsArchive/jungleworld_archive.pkl')"
   ]
  },
  {
   "cell_type": "markdown",
   "metadata": {},
   "source": [
    "#### Sueddeutsche Zeitung"
   ]
  },
  {
   "cell_type": "code",
   "execution_count": 5,
   "metadata": {},
   "outputs": [],
   "source": [
    "sz = Archive('NewsArchive/sueddeutsche_archive.pkl')"
   ]
  },
  {
   "cell_type": "markdown",
   "metadata": {},
   "source": [
    "### Bringing everything together, split and preprocessing"
   ]
  },
  {
   "cell_type": "code",
   "execution_count": 6,
   "metadata": {},
   "outputs": [],
   "source": [
    "combined_data = germa_parl.texts + jw.texts + jf.texts + sz.texts\n",
    "labels = germa_parl.labels + jw.labels + jf.labels + sz.labels"
   ]
  },
  {
   "cell_type": "code",
   "execution_count": 7,
   "metadata": {
    "scrolled": true
   },
   "outputs": [
    {
     "data": {
      "text/plain": [
       "['berlin',\n",
       " 'dpa',\n",
       " 'im',\n",
       " 'weinglas',\n",
       " 'vor',\n",
       " 'sigmar',\n",
       " 'gabriel',\n",
       " 'wasser',\n",
       " 'til',\n",
       " 'schweiger',\n",
       " 'wirkt',\n",
       " 'abgekämpft',\n",
       " 'glamourfaktor',\n",
       " 'null',\n",
       " 'beide',\n",
       " 'schauen',\n",
       " 'skeptisch',\n",
       " 'ernste',\n",
       " 'gesichter',\n",
       " 'zu',\n",
       " 'einem',\n",
       " 'ernsten',\n",
       " 'thema',\n",
       " 'steht',\n",
       " 'auf',\n",
       " 'der',\n",
       " 'facebook',\n",
       " 'seite',\n",
       " 'des',\n",
       " 'spd',\n",
       " 'chefs',\n",
       " 'zu',\n",
       " 'einem',\n",
       " 'foto',\n",
       " 'geschrieben',\n",
       " 'das',\n",
       " 'ihn',\n",
       " 'in',\n",
       " 'einem',\n",
       " 'berliner',\n",
       " 'club',\n",
       " 'neben',\n",
       " 'dem',\n",
       " 'filmstar',\n",
       " 'zeigt',\n",
       " 'direkt',\n",
       " 'aus',\n",
       " 'dem',\n",
       " 'dpa',\n",
       " 'newskanal',\n",
       " 'berlin',\n",
       " 'dpa',\n",
       " 'im',\n",
       " 'weinglas',\n",
       " 'vor',\n",
       " 'sigmar',\n",
       " 'gabriel',\n",
       " 'wasser',\n",
       " 'til',\n",
       " 'schweiger',\n",
       " 'wirkt',\n",
       " 'abgekämpft',\n",
       " 'glamourfaktor',\n",
       " 'null',\n",
       " 'beide',\n",
       " 'schauen',\n",
       " 'skeptisch',\n",
       " 'ernste',\n",
       " 'gesichter',\n",
       " 'zu',\n",
       " 'einem',\n",
       " 'ernsten',\n",
       " 'thema',\n",
       " 'steht',\n",
       " 'auf',\n",
       " 'der',\n",
       " 'facebook',\n",
       " 'seite',\n",
       " 'des',\n",
       " 'spd',\n",
       " 'chefs',\n",
       " 'zu',\n",
       " 'einem',\n",
       " 'foto',\n",
       " 'geschrieben',\n",
       " 'das',\n",
       " 'ihn',\n",
       " 'in',\n",
       " 'einem',\n",
       " 'berliner',\n",
       " 'club',\n",
       " 'neben',\n",
       " 'dem',\n",
       " 'filmstar',\n",
       " 'zeigt',\n",
       " 'auf',\n",
       " 'gabriels',\n",
       " 'facebook',\n",
       " 'seite',\n",
       " 'heißt',\n",
       " 'es',\n",
       " 'weiter',\n",
       " 'wir',\n",
       " 'haben',\n",
       " 'planungen',\n",
       " 'für',\n",
       " 'flüchtlinge',\n",
       " 'und',\n",
       " 'gegen',\n",
       " 'rechtsradikale',\n",
       " 'hetze',\n",
       " 'besprochen',\n",
       " 'es',\n",
       " 'war',\n",
       " 'ein',\n",
       " 'sehr',\n",
       " 'intensives',\n",
       " 'und',\n",
       " 'gutes',\n",
       " 'gespräch',\n",
       " 'schon',\n",
       " 'vor',\n",
       " 'der',\n",
       " 'neuen',\n",
       " 'männerfreundschaft',\n",
       " 'hatten',\n",
       " 'schweiger',\n",
       " '51',\n",
       " 'und',\n",
       " 'gabriel',\n",
       " '55',\n",
       " 'einiges',\n",
       " 'gemeinsam',\n",
       " 'beide',\n",
       " 'werfen',\n",
       " 'sich',\n",
       " 'mit',\n",
       " 'hingabe',\n",
       " 'in',\n",
       " 'die',\n",
       " 'schusslinie',\n",
       " 'der',\n",
       " 'eine',\n",
       " 'als',\n",
       " 'tatort',\n",
       " 'haudrauf',\n",
       " 'nick',\n",
       " 'tschiller',\n",
       " 'der',\n",
       " 'andere',\n",
       " 'an',\n",
       " 'der',\n",
       " 'spitze',\n",
       " 'einer',\n",
       " 'zum',\n",
       " 'internen',\n",
       " 'kleinkrieg',\n",
       " 'neigenden',\n",
       " 'volkspartei',\n",
       " 'beide',\n",
       " 'wissen',\n",
       " 'macht',\n",
       " 'und',\n",
       " 'einfluss',\n",
       " 'zu',\n",
       " 'nutzen',\n",
       " 'als',\n",
       " 'regisseur',\n",
       " 'von',\n",
       " 'kino',\n",
       " 'kassenschlagern',\n",
       " 'oder',\n",
       " 'als',\n",
       " 'wichtigster',\n",
       " 'minister',\n",
       " 'im',\n",
       " 'kabinett',\n",
       " 'beide',\n",
       " 'sind',\n",
       " 'nicht',\n",
       " 'gerade',\n",
       " 'öffentlichkeitsscheu',\n",
       " 'in',\n",
       " 'eigener',\n",
       " 'sache',\n",
       " 'die',\n",
       " 'zeitungen',\n",
       " 'mit',\n",
       " 'den',\n",
       " 'dicken',\n",
       " 'buchstaben',\n",
       " 'immer',\n",
       " 'fest',\n",
       " 'im',\n",
       " 'blick',\n",
       " 'bäm',\n",
       " 'der',\n",
       " 'vizekanzler',\n",
       " 'hat',\n",
       " 'sich',\n",
       " 'gemeldet',\n",
       " 'und',\n",
       " 'er',\n",
       " 'hat',\n",
       " 'sich',\n",
       " 'eine',\n",
       " 'halbe',\n",
       " 'stunde',\n",
       " 'an',\n",
       " 'seinem',\n",
       " 'feierabend',\n",
       " 'meinen',\n",
       " 'frust',\n",
       " 'angehört',\n",
       " 'der',\n",
       " 'eintrag',\n",
       " 'auf',\n",
       " 'schweigers',\n",
       " 'seite',\n",
       " 'ließ',\n",
       " 'ende',\n",
       " 'juli',\n",
       " 'vermuten',\n",
       " 'dass',\n",
       " 'zwei',\n",
       " 'alpha',\n",
       " 'tiere',\n",
       " 'zueinanderfinden',\n",
       " 'gabriel',\n",
       " 'dem',\n",
       " 'einst',\n",
       " 'unter',\n",
       " 'dem',\n",
       " 'spitznamen',\n",
       " 'siggi',\n",
       " 'pop',\n",
       " 'eine',\n",
       " 'affinität',\n",
       " 'zum',\n",
       " 'showgeschäft',\n",
       " 'nachgesagt',\n",
       " 'wurde',\n",
       " 'äußerte',\n",
       " 'sich',\n",
       " 'lobend',\n",
       " 'via',\n",
       " 'bild',\n",
       " 'til',\n",
       " 'schweiger',\n",
       " 'setzt',\n",
       " 'zeichen',\n",
       " 'und',\n",
       " 'gibt',\n",
       " 'in',\n",
       " 'den',\n",
       " 'sozialen',\n",
       " 'medien',\n",
       " 'vielen',\n",
       " 'eine',\n",
       " 'stimme',\n",
       " 'die',\n",
       " 'sich',\n",
       " 'sorgen',\n",
       " 'machen',\n",
       " 'über',\n",
       " 'hass',\n",
       " 'und',\n",
       " 'gewalt',\n",
       " 'gegen',\n",
       " 'fremde',\n",
       " 'und',\n",
       " 'schwache',\n",
       " 'auf',\n",
       " 'seine',\n",
       " 'art',\n",
       " 'und',\n",
       " 'mit',\n",
       " 'seinen',\n",
       " 'worten',\n",
       " 'deutlich',\n",
       " 'und',\n",
       " 'für',\n",
       " 'jedermann',\n",
       " 'verständlich',\n",
       " 'man',\n",
       " 'habe',\n",
       " 'am',\n",
       " 'telefon',\n",
       " 'einen',\n",
       " 'anfang',\n",
       " 'gemacht',\n",
       " 'und',\n",
       " 'verabredet',\n",
       " 'das',\n",
       " 'gespräch',\n",
       " 'fortzusetzen',\n",
       " 'auch',\n",
       " 'um',\n",
       " 'gemeinsame',\n",
       " 'wege',\n",
       " 'zu',\n",
       " 'finden',\n",
       " 'etwas',\n",
       " 'gegen',\n",
       " 'fremdenhass',\n",
       " 'und',\n",
       " 'gewalt',\n",
       " 'zu',\n",
       " 'tun',\n",
       " 'dies',\n",
       " 'ist',\n",
       " 'nun',\n",
       " 'offensichtlich',\n",
       " 'am',\n",
       " 'freitag',\n",
       " 'geschehen',\n",
       " 'es',\n",
       " 'wird',\n",
       " 'dabei',\n",
       " 'nicht',\n",
       " 'nur',\n",
       " 'um',\n",
       " 'schweigers',\n",
       " 'auftritt',\n",
       " 'gegen',\n",
       " 'neonazi',\n",
       " 'umtriebe',\n",
       " 'und',\n",
       " 'anonyme',\n",
       " 'anfeindungen',\n",
       " 'im',\n",
       " 'netz',\n",
       " 'verpisst',\n",
       " 'euch',\n",
       " 'von',\n",
       " 'meiner',\n",
       " 'seite',\n",
       " 'empathieloses',\n",
       " 'pack',\n",
       " 'gegangen',\n",
       " 'sein',\n",
       " 'sondern',\n",
       " 'auch',\n",
       " 'um',\n",
       " 'sein',\n",
       " 'neues',\n",
       " 'hilfsprojekt',\n",
       " 'ein',\n",
       " 'vorzeige',\n",
       " 'flüchtlingsheim',\n",
       " 'in',\n",
       " 'osterode',\n",
       " 'am',\n",
       " 'harz',\n",
       " 'ganz',\n",
       " 'in',\n",
       " 'der',\n",
       " 'nähe',\n",
       " 'von',\n",
       " 'gabriels',\n",
       " 'geburtsort',\n",
       " 'goslar',\n",
       " 'beide',\n",
       " 'waren',\n",
       " 'laut',\n",
       " 'bild',\n",
       " 'politikchef',\n",
       " 'bela',\n",
       " 'anda',\n",
       " 'schon',\n",
       " 'durch',\n",
       " 'die',\n",
       " 'spd',\n",
       " 'mitgliedschaft',\n",
       " 'von',\n",
       " 'schweigers',\n",
       " 'vater',\n",
       " 'politisch',\n",
       " 'verbandelt',\n",
       " 'jetzt',\n",
       " 'also',\n",
       " 'auch',\n",
       " 'im',\n",
       " 'kampf',\n",
       " 'gegen',\n",
       " 'rechts',\n",
       " 'erwartungsgemäß',\n",
       " 'feiern',\n",
       " 'nicht',\n",
       " 'alle',\n",
       " 'das',\n",
       " 'promi',\n",
       " 'duo',\n",
       " 'so',\n",
       " 'lässt',\n",
       " 'sich',\n",
       " 'unter',\n",
       " 'gabriels',\n",
       " 'facebook',\n",
       " 'fotopräsentation',\n",
       " 'neben',\n",
       " 'den',\n",
       " 'obligatorischen',\n",
       " 'hass',\n",
       " 'attacken',\n",
       " 'auch',\n",
       " 'mancher',\n",
       " 'spott',\n",
       " 'zwei',\n",
       " 'sehr',\n",
       " 'schlechte',\n",
       " 'schauspieler',\n",
       " 'finden',\n",
       " 'dem',\n",
       " 'komödien',\n",
       " 'regisseur',\n",
       " 'nehmen',\n",
       " 'nicht',\n",
       " 'alle',\n",
       " 'sein',\n",
       " 'polit',\n",
       " 'engagement',\n",
       " 'ab',\n",
       " 'viele',\n",
       " 'halten',\n",
       " 'ihn',\n",
       " 'zuvorderst',\n",
       " 'für',\n",
       " 'einen',\n",
       " 'selbstdarsteller',\n",
       " 'und',\n",
       " 'das',\n",
       " 'migrations',\n",
       " 'bundesamt',\n",
       " 'mischt',\n",
       " 'sich',\n",
       " 'ein',\n",
       " 'indem',\n",
       " 'es',\n",
       " 'schweiger',\n",
       " 'vor',\n",
       " 'alleingängen',\n",
       " 'in',\n",
       " 'osterode',\n",
       " 'warnt',\n",
       " 'eine',\n",
       " 'unterkunft',\n",
       " 'hinsetzen',\n",
       " 'und',\n",
       " 'dann',\n",
       " 'läuft',\n",
       " 'es',\n",
       " 'ganz',\n",
       " 'so',\n",
       " 'einfach',\n",
       " 'ist',\n",
       " 'es',\n",
       " 'dann',\n",
       " 'doch',\n",
       " 'nicht',\n",
       " 'sagt',\n",
       " 'behördenchef',\n",
       " 'manfred',\n",
       " 'schmidt',\n",
       " 'über',\n",
       " 'das',\n",
       " 'projekt',\n",
       " 'flüchtlingsheim',\n",
       " 'gabriel',\n",
       " 'hat',\n",
       " 'mit',\n",
       " 'seinen',\n",
       " 'aussagen',\n",
       " 'zur',\n",
       " 'flüchtlingspolitik',\n",
       " 'derweil',\n",
       " 'ärger',\n",
       " 'in',\n",
       " 'der',\n",
       " 'eigenen',\n",
       " 'partei',\n",
       " 'der',\n",
       " 'vorsitzende',\n",
       " 'der',\n",
       " 'spd',\n",
       " 'arbeitsgemeinschaft',\n",
       " 'migration',\n",
       " 'und',\n",
       " 'vielfalt',\n",
       " 'aziz',\n",
       " 'bozkurt',\n",
       " 'bemängelt',\n",
       " 'im',\n",
       " 'spiegel',\n",
       " 'die',\n",
       " 'vorschläge',\n",
       " 'der',\n",
       " 'spd',\n",
       " 'spitze',\n",
       " 'wirkten',\n",
       " 'leider',\n",
       " 'kopflos',\n",
       " 'adressat',\n",
       " 'dieser',\n",
       " 'kritik',\n",
       " 'der',\n",
       " 'parteichef',\n",
       " 'top',\n",
       " 'sozialdemokraten',\n",
       " 'wie',\n",
       " 'ralf',\n",
       " 'stegner',\n",
       " 'und',\n",
       " 'aydan',\n",
       " 'özoguz',\n",
       " 'sahen',\n",
       " 'sich',\n",
       " 'prompt',\n",
       " 'genötigt',\n",
       " 'gabriel',\n",
       " 'zur',\n",
       " 'hilfe',\n",
       " 'zu',\n",
       " 'eilen']"
      ]
     },
     "execution_count": 7,
     "metadata": {},
     "output_type": "execute_result"
    }
   ],
   "source": [
    "random.choice(combined_data)"
   ]
  },
  {
   "cell_type": "markdown",
   "metadata": {},
   "source": [
    "Split data into training, validation and test set."
   ]
  },
  {
   "cell_type": "code",
   "execution_count": 8,
   "metadata": {},
   "outputs": [],
   "source": [
    "train_texts, train_labels, val_texts, val_labels, test_texts, test_labels = train_val_test_split(combined_data, \n",
    "                                                                                                 labels, \n",
    "                                                                                                 reproduceable=True)"
   ]
  },
  {
   "cell_type": "markdown",
   "metadata": {},
   "source": [
    "As a preprocessing step we can drop the digits with *drop_digits=True* and all the german stopwords with *drop_stopwords=True*."
   ]
  },
  {
   "cell_type": "code",
   "execution_count": 9,
   "metadata": {},
   "outputs": [],
   "source": [
    "train_preprocessed = data_preprocessing(train_texts, drop_stopwords=False, drop_digits=True)\n",
    "val_preprocessed = data_preprocessing(val_texts, drop_stopwords=False, drop_digits=True)"
   ]
  },
  {
   "cell_type": "code",
   "execution_count": 10,
   "metadata": {},
   "outputs": [
    {
     "data": {
      "text/plain": [
       "400094"
      ]
     },
     "execution_count": 10,
     "metadata": {},
     "output_type": "execute_result"
    }
   ],
   "source": [
    "len(train_preprocessed + val_preprocessed)"
   ]
  },
  {
   "cell_type": "code",
   "execution_count": 11,
   "metadata": {},
   "outputs": [
    {
     "data": {
      "text/plain": [
       "261.0"
      ]
     },
     "execution_count": 11,
     "metadata": {},
     "output_type": "execute_result"
    }
   ],
   "source": [
    "num_words_per_sample(train_preprocessed + val_preprocessed)"
   ]
  },
  {
   "cell_type": "markdown",
   "metadata": {},
   "source": [
    "Calculate the number of samples/number of words per sample ratio."
   ]
  },
  {
   "cell_type": "code",
   "execution_count": 12,
   "metadata": {},
   "outputs": [
    {
     "data": {
      "text/plain": [
       "1532.927203065134"
      ]
     },
     "execution_count": 12,
     "metadata": {},
     "output_type": "execute_result"
    }
   ],
   "source": [
    "len(train_preprocessed + val_preprocessed)/num_words_per_sample(train_preprocessed + val_preprocessed)"
   ]
  },
  {
   "cell_type": "code",
   "execution_count": 13,
   "metadata": {},
   "outputs": [
    {
     "data": {
      "image/png": "[encoded data removed]",
      "text/plain": [
       "<Figure size 432x288 with 1 Axes>"
      ]
     },
     "metadata": {
      "needs_background": "light"
     },
     "output_type": "display_data"
    }
   ],
   "source": [
    "plot_sample_length_distribution(train_preprocessed + val_preprocessed)"
   ]
  },
  {
   "cell_type": "code",
   "execution_count": 14,
   "metadata": {},
   "outputs": [
    {
     "data": {
      "image/png": "[encoded data removed]",
      "text/plain": [
       "<Figure size 432x288 with 1 Axes>"
      ]
     },
     "metadata": {
      "needs_background": "light"
     },
     "output_type": "display_data"
    }
   ],
   "source": [
    "word_frequency = plot_word_frequency_distribution(train_preprocessed + val_preprocessed)"
   ]
  },
  {
   "cell_type": "code",
   "execution_count": 15,
   "metadata": {
    "scrolled": true
   },
   "outputs": [
    {
     "data": {
      "image/png": "[encoded data removed]",
      "text/plain": [
       "<Figure size 432x288 with 1 Axes>"
      ]
     },
     "metadata": {
      "needs_background": "light"
     },
     "output_type": "display_data"
    }
   ],
   "source": [
    "plot_num_samples_per_class(train_labels + val_labels)"
   ]
  },
  {
   "cell_type": "markdown",
   "metadata": {},
   "source": [
    "## Data Preperation"
   ]
  },
  {
   "cell_type": "markdown",
   "metadata": {},
   "source": [
    "We tokenize the text as sequences. If you want to use fine-tuned pre-trained embedding download the vocabulary and vectors from [here](https://deepset.ai/german-word-embeddings) and place it in PretrainedEmbedding folder. Then in class *SequenceVectorize()* set *calculate_vocab=False*, in function *get_embedding(...)* set *pretrained_embedding=True*."
   ]
  },
  {
   "cell_type": "code",
   "execution_count": 16,
   "metadata": {},
   "outputs": [],
   "source": [
    "sequence_vectorize = SequenceVectorize(train_texts, calculate_vocab=True)\n",
    "Xtr = sequence_vectorize.vectorize(train_preprocessed)\n",
    "Xval = sequence_vectorize.vectorize(val_preprocessed)\n",
    "Ytr, _ = onehot_encoding(train_labels) \n",
    "Yval, _ = onehot_encoding(val_labels)"
   ]
  },
  {
   "cell_type": "code",
   "execution_count": 17,
   "metadata": {},
   "outputs": [],
   "source": [
    "Xte = sequence_vectorize.vectorize(test_texts)\n",
    "Yte, _ = onehot_encoding(test_labels) "
   ]
  },
  {
   "cell_type": "markdown",
   "metadata": {},
   "source": [
    "## Model Building"
   ]
  },
  {
   "cell_type": "markdown",
   "metadata": {},
   "source": [
    "If you set *pretrained_embedding=True* you can specify if you want to fine-tune the pretrained embedding with setting *finetune_embedding=True*. If you do not want to use a fine-tuned pre-trained embedding then set *pretrained_embedding=False* and specify the embedding dimension *embedding_dim*."
   ]
  },
  {
   "cell_type": "code",
   "execution_count": 18,
   "metadata": {},
   "outputs": [],
   "source": [
    "embedding_layer = get_embedding(sequence_vectorize.word_index, \n",
    "                                Xtr.shape[1], \n",
    "                                pretrained_embedding=False, \n",
    "                                finetune_embedding=False, \n",
    "                                embedding_dim=300)\n",
    "\n",
    "model = LongShortTermMemory(embedding_layer, Ytr.shape[1])\n",
    "opt = tensorflow.keras.optimizers.RMSprop(learning_rate=1e-2)\n",
    "\n",
    "my_callbacks = [tensorflow.keras.callbacks.EarlyStopping(monitor='val_loss', patience=8),\n",
    "                tensorflow.keras.callbacks.ReduceLROnPlateau(monitor='val_loss', factor=0.3, patience=3, mode='min', min_lr=1e-6)]\n",
    "\n",
    "class_weight = compute_class_weight(labels)"
   ]
  },
  {
   "cell_type": "markdown",
   "metadata": {},
   "source": [
    "### LSTM"
   ]
  },
  {
   "cell_type": "code",
   "execution_count": 28,
   "metadata": {},
   "outputs": [
    {
     "name": "stdout",
     "output_type": "stream",
     "text": [
      "Model: \"sequential_2\"\n",
      "_________________________________________________________________\n",
      "Layer (type)                 Output Shape              Param #   \n",
      "=================================================================\n",
      "embedding_1 (Embedding)      (None, 300, 300)          9000300   \n",
      "_________________________________________________________________\n",
      "lstm_12 (LSTM)               (None, 256)               570368    \n",
      "_________________________________________________________________\n",
      "dense_2 (Dense)              (None, 64)                16448     \n",
      "_________________________________________________________________\n",
      "dense_3 (Dense)              (None, 3)                 195       \n",
      "=================================================================\n",
      "Total params: 9,587,311\n",
      "Trainable params: 9,587,311\n",
      "Non-trainable params: 0\n",
      "_________________________________________________________________\n"
     ]
    }
   ],
   "source": [
    "lstm = model.lstm(opt, out_dim=256, dropout=0.5)"
   ]
  },
  {
   "cell_type": "markdown",
   "metadata": {},
   "source": [
    "#### Training"
   ]
  },
  {
   "cell_type": "code",
   "execution_count": 75,
   "metadata": {},
   "outputs": [
    {
     "name": "stdout",
     "output_type": "stream",
     "text": [
      "Epoch 1/1000\n",
      "348/348 [==============================] - 135s 389ms/step - loss: 1.2804 - accuracy: 0.4363 - f1: 0.2781 - val_loss: 1.1074 - val_accuracy: 0.3805 - val_f1: 0.1566 - lr: 0.0100\n",
      "Epoch 2/1000\n",
      "348/348 [==============================] - 132s 381ms/step - loss: 1.1598 - accuracy: 0.4677 - f1: 0.3235 - val_loss: 0.7773 - val_accuracy: 0.6013 - val_f1: 0.5323 - lr: 0.0100\n",
      "Epoch 3/1000\n",
      "348/348 [==============================] - 135s 388ms/step - loss: 0.8144 - accuracy: 0.6375 - f1: 0.6002 - val_loss: 0.6848 - val_accuracy: 0.6348 - val_f1: 0.6057 - lr: 0.0100\n",
      "Epoch 4/1000\n",
      "348/348 [==============================] - 131s 377ms/step - loss: 0.7516 - accuracy: 0.6684 - f1: 0.6387 - val_loss: 0.6792 - val_accuracy: 0.6437 - val_f1: 0.6312 - lr: 0.0100\n",
      "Epoch 5/1000\n",
      "348/348 [==============================] - 133s 382ms/step - loss: 0.7187 - accuracy: 0.6873 - f1: 0.6617 - val_loss: 0.6747 - val_accuracy: 0.6542 - val_f1: 0.6325 - lr: 0.0100\n",
      "Epoch 6/1000\n",
      "348/348 [==============================] - 132s 380ms/step - loss: 0.6974 - accuracy: 0.7011 - f1: 0.6770 - val_loss: 0.6623 - val_accuracy: 0.6739 - val_f1: 0.6554 - lr: 0.0100\n",
      "Epoch 7/1000\n",
      "348/348 [==============================] - 134s 386ms/step - loss: 0.6839 - accuracy: 0.7089 - f1: 0.6877 - val_loss: 0.6821 - val_accuracy: 0.6685 - val_f1: 0.6488 - lr: 0.0100\n",
      "Epoch 8/1000\n",
      "348/348 [==============================] - 135s 387ms/step - loss: 0.6761 - accuracy: 0.7155 - f1: 0.6947 - val_loss: 0.6635 - val_accuracy: 0.6727 - val_f1: 0.6594 - lr: 0.0100\n",
      "Epoch 9/1000\n",
      "348/348 [==============================] - 134s 386ms/step - loss: 0.6686 - accuracy: 0.7190 - f1: 0.7003 - val_loss: 0.6581 - val_accuracy: 0.6784 - val_f1: 0.6632 - lr: 0.0100\n",
      "Epoch 10/1000\n",
      "348/348 [==============================] - 133s 381ms/step - loss: 0.6620 - accuracy: 0.7222 - f1: 0.7047 - val_loss: 0.6706 - val_accuracy: 0.6682 - val_f1: 0.6527 - lr: 0.0100\n",
      "Epoch 11/1000\n",
      "348/348 [==============================] - 131s 376ms/step - loss: 0.6591 - accuracy: 0.7252 - f1: 0.7082 - val_loss: 0.6927 - val_accuracy: 0.6679 - val_f1: 0.6546 - lr: 0.0100\n",
      "Epoch 12/1000\n",
      "348/348 [==============================] - 131s 377ms/step - loss: 0.6560 - accuracy: 0.7274 - f1: 0.7103 - val_loss: 0.6844 - val_accuracy: 0.6673 - val_f1: 0.6537 - lr: 0.0100\n",
      "Epoch 13/1000\n",
      "348/348 [==============================] - 132s 381ms/step - loss: 0.6299 - accuracy: 0.7414 - f1: 0.7258 - val_loss: 0.6809 - val_accuracy: 0.6743 - val_f1: 0.6616 - lr: 0.0030\n",
      "Epoch 14/1000\n",
      "348/348 [==============================] - 131s 376ms/step - loss: 0.6187 - accuracy: 0.7467 - f1: 0.7324 - val_loss: 0.6835 - val_accuracy: 0.6755 - val_f1: 0.6657 - lr: 0.0030\n",
      "Epoch 15/1000\n",
      "348/348 [==============================] - 130s 374ms/step - loss: 0.6115 - accuracy: 0.7501 - f1: 0.7360 - val_loss: 0.6949 - val_accuracy: 0.6761 - val_f1: 0.6669 - lr: 0.0030\n",
      "Epoch 16/1000\n",
      "348/348 [==============================] - 131s 376ms/step - loss: 0.6010 - accuracy: 0.7550 - f1: 0.7426 - val_loss: 0.6880 - val_accuracy: 0.6751 - val_f1: 0.6669 - lr: 9.0000e-04\n",
      "Epoch 17/1000\n",
      "348/348 [==============================] - 131s 376ms/step - loss: 0.5983 - accuracy: 0.7576 - f1: 0.7446 - val_loss: 0.6913 - val_accuracy: 0.6779 - val_f1: 0.6689 - lr: 9.0000e-04\n"
     ]
    }
   ],
   "source": [
    "history = lstm.fit(Xtr, Ytr, validation_data=(Xval, Yval), epochs=1000, batch_size=1024, \n",
    "                    class_weight=class_weight, verbose=1, callbacks=my_callbacks)"
   ]
  },
  {
   "cell_type": "code",
   "execution_count": 76,
   "metadata": {},
   "outputs": [
    {
     "data": {
      "image/png": "[encoded data removed]",
      "text/plain": [
       "<Figure size 432x288 with 1 Axes>"
      ]
     },
     "metadata": {
      "needs_background": "light"
     },
     "output_type": "display_data"
    }
   ],
   "source": [
    "from matplotlib import pyplot as plt\n",
    "plt.plot(history.history['loss'])\n",
    "plt.plot(history.history['val_loss'])\n",
    "plt.title('model loss')\n",
    "plt.ylabel('loss')\n",
    "plt.xlabel('epoch')\n",
    "plt.legend(['train', 'val'], loc='upper left')\n",
    "plt.show()"
   ]
  },
  {
   "cell_type": "markdown",
   "metadata": {},
   "source": [
    "#### Testing"
   ]
  },
  {
   "cell_type": "code",
   "execution_count": 66,
   "metadata": {},
   "outputs": [],
   "source": [
    "lstm = tensorflow.keras.models.load_model('models/lstm.09-0.66.h5', custom_objects={'f1':f1})"
   ]
  },
  {
   "cell_type": "code",
   "execution_count": 67,
   "metadata": {},
   "outputs": [],
   "source": [
    "y_pred = lstm.predict(Xte)"
   ]
  },
  {
   "cell_type": "code",
   "execution_count": 68,
   "metadata": {},
   "outputs": [
    {
     "data": {
      "text/plain": [
       "0.6768642447418738"
      ]
     },
     "execution_count": 68,
     "metadata": {},
     "output_type": "execute_result"
    }
   ],
   "source": [
    "acc(Yte, y_pred)"
   ]
  },
  {
   "cell_type": "code",
   "execution_count": 69,
   "metadata": {},
   "outputs": [
    {
     "data": {
      "text/plain": [
       "0.6607589569762246"
      ]
     },
     "execution_count": 69,
     "metadata": {},
     "output_type": "execute_result"
    }
   ],
   "source": [
    "f1(Yte.astype(float), y_pred.astype(float)).numpy()"
   ]
  },
  {
   "cell_type": "markdown",
   "metadata": {},
   "source": [
    "### Stacked LSTM"
   ]
  },
  {
   "cell_type": "code",
   "execution_count": 19,
   "metadata": {},
   "outputs": [],
   "source": [
    "my_callbacks.append(tensorflow.keras.callbacks.ModelCheckpoint(filepath='models/stacked_lstm.{epoch:02d}-{val_loss:.2f}.h5'))"
   ]
  },
  {
   "cell_type": "code",
   "execution_count": 20,
   "metadata": {},
   "outputs": [
    {
     "name": "stdout",
     "output_type": "stream",
     "text": [
      "Model: \"sequential\"\n",
      "_________________________________________________________________\n",
      "Layer (type)                 Output Shape              Param #   \n",
      "=================================================================\n",
      "embedding (Embedding)        (None, 300, 300)          9000300   \n",
      "_________________________________________________________________\n",
      "lstm (LSTM)                  (None, 300, 256)          570368    \n",
      "_________________________________________________________________\n",
      "lstm_1 (LSTM)                (None, 256)               525312    \n",
      "_________________________________________________________________\n",
      "dense (Dense)                (None, 64)                16448     \n",
      "_________________________________________________________________\n",
      "dense_1 (Dense)              (None, 3)                 195       \n",
      "=================================================================\n",
      "Total params: 10,112,623\n",
      "Trainable params: 10,112,623\n",
      "Non-trainable params: 0\n",
      "_________________________________________________________________\n"
     ]
    }
   ],
   "source": [
    "stacked_lstm = model.stacked_lstm(opt, hidden_dim=256, num_layers=2, dropout=0.5)"
   ]
  },
  {
   "cell_type": "markdown",
   "metadata": {},
   "source": [
    "#### Training"
   ]
  },
  {
   "cell_type": "code",
   "execution_count": 21,
   "metadata": {},
   "outputs": [
    {
     "name": "stdout",
     "output_type": "stream",
     "text": [
      "Epoch 1/1000\n",
      "348/348 [==============================] - 176s 505ms/step - loss: 1.3701 - accuracy: 0.3397 - f1: 0.0455 - val_loss: 1.0885 - val_accuracy: 0.3887 - val_f1: 0.0039 - lr: 0.0100\n",
      "Epoch 2/1000\n",
      "348/348 [==============================] - 173s 498ms/step - loss: 1.1919 - accuracy: 0.4296 - f1: 0.2080 - val_loss: 0.9265 - val_accuracy: 0.4808 - val_f1: 0.4626 - lr: 0.0100\n",
      "Epoch 3/1000\n",
      "348/348 [==============================] - 175s 502ms/step - loss: 0.9363 - accuracy: 0.5803 - f1: 0.5110 - val_loss: 0.7488 - val_accuracy: 0.5836 - val_f1: 0.5509 - lr: 0.0100\n",
      "Epoch 4/1000\n",
      "348/348 [==============================] - 176s 504ms/step - loss: 0.8355 - accuracy: 0.6202 - f1: 0.5739 - val_loss: 0.7022 - val_accuracy: 0.6305 - val_f1: 0.6014 - lr: 0.0100\n",
      "Epoch 5/1000\n",
      "348/348 [==============================] - 174s 501ms/step - loss: 0.7979 - accuracy: 0.6385 - f1: 0.6016 - val_loss: 0.6941 - val_accuracy: 0.6155 - val_f1: 0.5961 - lr: 0.0100\n",
      "Epoch 6/1000\n",
      "348/348 [==============================] - 175s 503ms/step - loss: 0.7755 - accuracy: 0.6502 - f1: 0.6178 - val_loss: 0.6667 - val_accuracy: 0.6604 - val_f1: 0.6152 - lr: 0.0100\n",
      "Epoch 7/1000\n",
      "348/348 [==============================] - 174s 499ms/step - loss: 0.7597 - accuracy: 0.6600 - f1: 0.6296 - val_loss: 0.6661 - val_accuracy: 0.6578 - val_f1: 0.6112 - lr: 0.0100\n",
      "Epoch 8/1000\n",
      "348/348 [==============================] - 174s 499ms/step - loss: 0.7468 - accuracy: 0.6667 - f1: 0.6380 - val_loss: 0.6601 - val_accuracy: 0.6520 - val_f1: 0.6173 - lr: 0.0100\n",
      "Epoch 9/1000\n",
      "348/348 [==============================] - 173s 498ms/step - loss: 0.7353 - accuracy: 0.6747 - f1: 0.6476 - val_loss: 0.6593 - val_accuracy: 0.6673 - val_f1: 0.6340 - lr: 0.0100\n",
      "Epoch 10/1000\n",
      "348/348 [==============================] - 175s 502ms/step - loss: 0.7269 - accuracy: 0.6807 - f1: 0.6539 - val_loss: 0.6765 - val_accuracy: 0.6534 - val_f1: 0.6302 - lr: 0.0100\n",
      "Epoch 11/1000\n",
      "348/348 [==============================] - 175s 502ms/step - loss: 0.7202 - accuracy: 0.6857 - f1: 0.6584 - val_loss: 0.6889 - val_accuracy: 0.6437 - val_f1: 0.6224 - lr: 0.0100\n",
      "Epoch 12/1000\n",
      "348/348 [==============================] - 174s 499ms/step - loss: 0.7155 - accuracy: 0.6886 - f1: 0.6618 - val_loss: 0.6861 - val_accuracy: 0.6373 - val_f1: 0.6183 - lr: 0.0100\n",
      "Epoch 13/1000\n",
      "348/348 [==============================] - 172s 494ms/step - loss: 0.6880 - accuracy: 0.7039 - f1: 0.6780 - val_loss: 0.6631 - val_accuracy: 0.6641 - val_f1: 0.6386 - lr: 0.0030\n",
      "Epoch 14/1000\n",
      "348/348 [==============================] - 172s 495ms/step - loss: 0.6781 - accuracy: 0.7084 - f1: 0.6850 - val_loss: 0.6671 - val_accuracy: 0.6631 - val_f1: 0.6417 - lr: 0.0030\n",
      "Epoch 15/1000\n",
      "348/348 [==============================] - 174s 500ms/step - loss: 0.6707 - accuracy: 0.7127 - f1: 0.6903 - val_loss: 0.6737 - val_accuracy: 0.6642 - val_f1: 0.6461 - lr: 0.0030\n",
      "Epoch 16/1000\n",
      "348/348 [==============================] - 173s 497ms/step - loss: 0.6584 - accuracy: 0.7191 - f1: 0.6973 - val_loss: 0.6677 - val_accuracy: 0.6683 - val_f1: 0.6490 - lr: 9.0000e-04\n",
      "Epoch 17/1000\n",
      "348/348 [==============================] - 172s 494ms/step - loss: 0.6556 - accuracy: 0.7208 - f1: 0.6997 - val_loss: 0.6762 - val_accuracy: 0.6640 - val_f1: 0.6493 - lr: 9.0000e-04\n"
     ]
    }
   ],
   "source": [
    "history = stacked_lstm.fit(Xtr, Ytr, validation_data=(Xval, Yval), epochs=1000, batch_size=1024, \n",
    "                           class_weight=class_weight, verbose=1, callbacks=my_callbacks)"
   ]
  },
  {
   "cell_type": "code",
   "execution_count": 24,
   "metadata": {},
   "outputs": [
    {
     "data": {
      "image/png": "[encoded data removed]",
      "text/plain": [
       "<Figure size 432x288 with 1 Axes>"
      ]
     },
     "metadata": {
      "needs_background": "light"
     },
     "output_type": "display_data"
    }
   ],
   "source": [
    "from matplotlib import pyplot as plt\n",
    "plt.plot(history.history['loss'])\n",
    "plt.plot(history.history['val_loss'])\n",
    "plt.title('model loss')\n",
    "plt.ylabel('loss')\n",
    "plt.xlabel('epoch')\n",
    "plt.legend(['train', 'val'], loc='upper left')\n",
    "plt.show()"
   ]
  },
  {
   "cell_type": "markdown",
   "metadata": {},
   "source": [
    "#### Testing"
   ]
  },
  {
   "cell_type": "code",
   "execution_count": 25,
   "metadata": {},
   "outputs": [],
   "source": [
    "stacked_lstm = tensorflow.keras.models.load_model('models/stacked_lstm.11-0.64.h5', custom_objects={'f1':f1})"
   ]
  },
  {
   "cell_type": "code",
   "execution_count": 26,
   "metadata": {},
   "outputs": [],
   "source": [
    "y_pred = stacked_lstm.predict(Xte)"
   ]
  },
  {
   "cell_type": "code",
   "execution_count": 27,
   "metadata": {},
   "outputs": [
    {
     "data": {
      "text/plain": [
       "0.6741873804971319"
      ]
     },
     "execution_count": 27,
     "metadata": {},
     "output_type": "execute_result"
    }
   ],
   "source": [
    "acc(Yte, y_pred)"
   ]
  },
  {
   "cell_type": "code",
   "execution_count": 28,
   "metadata": {},
   "outputs": [
    {
     "data": {
      "text/plain": [
       "0.6555553588207572"
      ]
     },
     "execution_count": 28,
     "metadata": {},
     "output_type": "execute_result"
    }
   ],
   "source": [
    "f1(Yte.astype(float), y_pred.astype(float)).numpy()"
   ]
  }
 ],
 "metadata": {
  "kernelspec": {
   "display_name": "Python 3",
   "language": "python",
   "name": "python3"
  },
  "language_info": {
   "codemirror_mode": {
    "name": "ipython",
    "version": 3
   },
   "file_extension": ".py",
   "mimetype": "text/x-python",
   "name": "python",
   "nbconvert_exporter": "python",
   "pygments_lexer": "ipython3",
   "version": "3.6.8"
  }
 },
 "nbformat": 4,
 "nbformat_minor": 4
}
